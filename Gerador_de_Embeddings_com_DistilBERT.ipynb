{
  "nbformat": 4,
  "nbformat_minor": 0,
  "metadata": {
    "colab": {
      "provenance": [],
      "authorship_tag": "ABX9TyMTfSK17U4h265rDQFYMc6Z",
      "include_colab_link": true
    },
    "kernelspec": {
      "name": "python3",
      "display_name": "Python 3"
    },
    "language_info": {
      "name": "python"
    }
  },
  "cells": [
    {
      "cell_type": "markdown",
      "metadata": {
        "id": "view-in-github",
        "colab_type": "text"
      },
      "source": [
        "<a href=\"https://colab.research.google.com/github/lvstravail-crypto/Embedding-Generator-with-DistilBERT/blob/main/Gerador_de_Embeddings_com_DistilBERT.ipynb\" target=\"_parent\"><img src=\"https://colab.research.google.com/assets/colab-badge.svg\" alt=\"Open In Colab\"/></a>"
      ]
    },
    {
      "cell_type": "code",
      "execution_count": null,
      "metadata": {
        "id": "mUonR4SZ6ShZ"
      },
      "outputs": [],
      "source": [
        "# Instalação das bibliotecas necessárias\n",
        "!pip install transformers\n",
        "!pip install torch\n",
        "!pip install pandas"
      ]
    },
    {
      "cell_type": "code",
      "source": [
        "# Importação das bibliotecas\n",
        "import torch\n",
        "from transformers import DistilBertTokenizer, DistilBertModel\n",
        "import pandas as pd\n",
        "import numpy as np\n",
        "from IPython.display import display"
      ],
      "metadata": {
        "id": "DiA4mV_n6T9g"
      },
      "execution_count": null,
      "outputs": []
    },
    {
      "cell_type": "code",
      "source": [
        "# Carregar o modelo e o tokenizador do Hugging Face\n",
        "tokenizer = DistilBertTokenizer.from_pretrained('distilbert-base-uncased')\n",
        "model = DistilBertModel.from_pretrained('distilbert-base-uncased')"
      ],
      "metadata": {
        "id": "tSqpUIeo6XLZ"
      },
      "execution_count": null,
      "outputs": []
    },
    {
      "cell_type": "code",
      "source": [
        "# Função para gerar embeddings utilizando o modelo do Hugging Face\n",
        "def get_embedding(text, model=model, tokenizer=tokenizer):\n",
        "    # Tokeniza o texto\n",
        "    inputs = tokenizer(text, return_tensors=\"pt\", truncation=True, padding=True, max_length=512)\n",
        "    # Gera o embedding com o modelo\n",
        "    with torch.no_grad():\n",
        "        outputs = model(**inputs)\n",
        "    # Usar o vetor do [CLS] token como o embedding (representação geral do texto)\n",
        "    embedding = outputs.last_hidden_state.mean(dim=1).squeeze().numpy()\n",
        "    return embedding"
      ],
      "metadata": {
        "id": "Qu7B1_9n6Y0o"
      },
      "execution_count": null,
      "outputs": []
    },
    {
      "cell_type": "code",
      "source": [
        "# Carregar o CSV com os textos\n",
        "df = pd.read_csv('english_text.csv')\n",
        "print(df)"
      ],
      "metadata": {
        "id": "uJGSjPMt6ag5"
      },
      "execution_count": null,
      "outputs": []
    },
    {
      "cell_type": "code",
      "source": [
        "# Aplicando a função para gerar embeddings para cada texto no DataFrame\n",
        "df[\"embedding\"] = df[\"text\"].apply(lambda x: get_embedding(x))\n",
        "df.to_csv(\"english_text_embeddings.csv\")"
      ],
      "metadata": {
        "id": "Cc2Rzufr6pDP"
      },
      "execution_count": null,
      "outputs": []
    },
    {
      "cell_type": "code",
      "source": [
        "# Função para calcular a similaridade do cosseno entre dois vetores\n",
        "def cosine_similarity(a, b):\n",
        "    return np.dot(a, b) / (np.linalg.norm(a) * np.linalg.norm(b))"
      ],
      "metadata": {
        "id": "DUkFLCaL6rMH"
      },
      "execution_count": null,
      "outputs": []
    },
    {
      "cell_type": "code",
      "source": [
        "# Solicitar ao usuário uma palavra para busca\n",
        "busca = input(\"Digite uma palavra: \")"
      ],
      "metadata": {
        "id": "5hR2vxgU6tNX"
      },
      "execution_count": null,
      "outputs": []
    },
    {
      "cell_type": "code",
      "source": [
        "# Gerar o embedding para a palavra de busca\n",
        "busca_vetor = get_embedding(busca)"
      ],
      "metadata": {
        "id": "i7D6RIIY7vFl"
      },
      "execution_count": null,
      "outputs": []
    },
    {
      "cell_type": "code",
      "source": [
        "# Calcular a similaridade entre o embedding da busca e os embeddings dos textos no DataFrame\n",
        "df[\"similarity\"] = df[\"embedding\"].apply(lambda x: cosine_similarity(x, busca_vetor))"
      ],
      "metadata": {
        "id": "ffKbFXa16x2M"
      },
      "execution_count": null,
      "outputs": []
    },
    {
      "cell_type": "code",
      "source": [
        "# Ordenar o DataFrame pelos valores de similaridade em ordem decrescente\n",
        "df_sorted = df.sort_values(\"similarity\", ascending=False)"
      ],
      "metadata": {
        "id": "sg6sivGH62IE"
      },
      "execution_count": null,
      "outputs": []
    },
    {
      "cell_type": "code",
      "source": [
        "# Exibir os textos mais similares\n",
        "display(df_sorted)"
      ],
      "metadata": {
        "id": "CKCXZGBT635u"
      },
      "execution_count": null,
      "outputs": []
    },
    {
      "cell_type": "code",
      "source": [
        "# Importação das bibliotecas necessárias\n",
        "import matplotlib.pyplot as plt\n",
        "from sklearn.decomposition import PCA\n",
        "\n",
        "# Função para plotar o gráfico vetorial dos embeddings\n",
        "def plot_embeddings(df_sorted):\n",
        "    # Reduzir a dimensionalidade dos embeddings para 2D usando PCA\n",
        "    pca = PCA(n_components=2)\n",
        "    embeddings_2d = pca.fit_transform(list(df_sorted[\"embedding\"]))\n",
        "\n",
        "    # Criar o gráfico\n",
        "    plt.figure(figsize=(10, 8))\n",
        "    plt.scatter(embeddings_2d[:, 0], embeddings_2d[:, 1], color='blue')\n",
        "\n",
        "    # Adicionar rótulos aos pontos (os textos) para identificar os mais similares\n",
        "    for i, txt in enumerate(df_sorted[\"text\"]):\n",
        "        plt.annotate(txt, (embeddings_2d[i, 0], embeddings_2d[i, 1]), fontsize=9, alpha=0.7)\n",
        "\n",
        "    plt.title(\"Gráfico Vetorial dos Embeddings\")\n",
        "    plt.xlabel(\"Componente Principal 1\")\n",
        "    plt.ylabel(\"Componente Principal 2\")\n",
        "    plt.show()\n",
        "\n",
        "# Chamar a função para exibir o gráfico\n",
        "plot_embeddings(df_sorted)\n"
      ],
      "metadata": {
        "id": "-y6mnT-BADBy"
      },
      "execution_count": null,
      "outputs": []
    }
  ]
}